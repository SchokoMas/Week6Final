{
 "cells": [
  {
   "cell_type": "markdown",
   "id": "ad4b4568",
   "metadata": {},
   "source": [
    "(Exercise 11)\n",
    "\n",
    "## Author\n",
    "Alanood"
   ]
  },
  {
   "cell_type": "markdown",
   "id": "6c7cf994",
   "metadata": {},
   "source": [
    "(Exercise 2)\n",
    "\n",
    "# Data Science Tools and Ecosystem"
   ]
  },
  {
   "cell_type": "markdown",
   "id": "77807898",
   "metadata": {},
   "source": [
    "(Exercise 3)\n",
    "\n",
    "In this notebook, Data Science Tools and Ecosystem are summarized."
   ]
  },
  {
   "cell_type": "markdown",
   "id": "e7787917",
   "metadata": {},
   "source": [
    "(Exercise 10)\n",
    "\n",
    "**Objectives:**\n",
    "- Popular languages for data science\n",
    "- Common libraries for data science\n",
    "- Table of data science tools\n",
    "- arithmetic expressions in Python: addition & multiplication\n",
    "- arithmetic expressions in Python: convert hours to minutes"
   ]
  },
  {
   "cell_type": "markdown",
   "id": "b4e7164b",
   "metadata": {},
   "source": [
    "(Exercise 4)\n",
    "\n",
    "Some of the popular languages that Data Scientists use are:\n",
    "1. R\n",
    "2. Python\n",
    "3. SQL\n",
    "4. Julia"
   ]
  },
  {
   "cell_type": "markdown",
   "id": "1231fb60",
   "metadata": {},
   "source": [
    "(Exercise 5)\n",
    "\n",
    "Some of the commonly used libraries used by Data Scientists include:\n",
    "1. NymPy\n",
    "2. Pandas\n",
    "3. Scikit\n",
    "4. TensorFlow\n"
   ]
  },
  {
   "cell_type": "markdown",
   "id": "fa1b56f7",
   "metadata": {},
   "source": [
    "(Exercise 6)\n",
    "\n",
    "| Data Science Tools|\n",
    "|-------------------|\n",
    "| Jupyter Notebook|\n",
    "| RStudio|\n",
    "| VS Code with Extensions|\n"
   ]
  },
  {
   "cell_type": "markdown",
   "id": "bbe3d18d",
   "metadata": {},
   "source": [
    "(Exercise 7)\n",
    "\n",
    "### Below are a few examples of evaluating arithmetic expressions in Python"
   ]
  },
  {
   "cell_type": "code",
   "execution_count": 2,
   "id": "34691c34",
   "metadata": {},
   "outputs": [
    {
     "data": {
      "text/plain": [
       "17"
      ]
     },
     "execution_count": 2,
     "metadata": {},
     "output_type": "execute_result"
    }
   ],
   "source": [
    "# (Exercise 8)\n",
    "# This a simple arithmetic expression to mutiply then add integers\n",
    "\n",
    "(3*4)+5"
   ]
  },
  {
   "cell_type": "code",
   "execution_count": 6,
   "id": "1e6f1836",
   "metadata": {},
   "outputs": [
    {
     "data": {
      "text/plain": [
       "3.3333333333333335"
      ]
     },
     "execution_count": 6,
     "metadata": {},
     "output_type": "execute_result"
    }
   ],
   "source": [
    "# (Exercise 9)\n",
    "# This will convert 200 minutes to hours by diving by 60\n",
    "\n",
    "hour = 60\n",
    "200/hour"
   ]
  },
  {
   "cell_type": "markdown",
   "id": "637b6a51",
   "metadata": {},
   "source": []
  }
 ],
 "metadata": {
  "kernelspec": {
   "display_name": "Python 3 (ipykernel)",
   "language": "python",
   "name": "python3"
  },
  "language_info": {
   "codemirror_mode": {
    "name": "ipython",
    "version": 3
   },
   "file_extension": ".py",
   "mimetype": "text/x-python",
   "name": "python",
   "nbconvert_exporter": "python",
   "pygments_lexer": "ipython3",
   "version": "3.11.4"
  }
 },
 "nbformat": 4,
 "nbformat_minor": 5
}
